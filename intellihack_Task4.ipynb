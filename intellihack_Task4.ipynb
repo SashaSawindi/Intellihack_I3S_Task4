{
  "nbformat": 4,
  "nbformat_minor": 0,
  "metadata": {
    "colab": {
      "provenance": []
    },
    "kernelspec": {
      "name": "ir",
      "display_name": "R"
    },
    "language_info": {
      "name": "R"
    }
  },
  "cells": [
    {
      "cell_type": "code",
      "source": [
        "install.packages(c(\"tidyverse\"))"
      ],
      "metadata": {
        "id": "Fd3Gkdtmtnnl",
        "colab": {
          "base_uri": "https://localhost:8080/"
        },
        "outputId": "66f28143-1d0f-4036-dc6b-42dc9f232646"
      },
      "execution_count": 1,
      "outputs": [
        {
          "output_type": "stream",
          "name": "stderr",
          "text": [
            "Installing package into ‘/usr/local/lib/R/site-library’\n",
            "(as ‘lib’ is unspecified)\n",
            "\n"
          ]
        }
      ]
    },
    {
      "cell_type": "code",
      "source": [
        "install.packages(c(\"quantmod\"))"
      ],
      "metadata": {
        "colab": {
          "base_uri": "https://localhost:8080/"
        },
        "id": "GE0d5Ip_wLX4",
        "outputId": "cb4bc8a6-65bf-42a8-919e-4d3c6486a88f"
      },
      "execution_count": 2,
      "outputs": [
        {
          "output_type": "stream",
          "name": "stderr",
          "text": [
            "Installing package into ‘/usr/local/lib/R/site-library’\n",
            "(as ‘lib’ is unspecified)\n",
            "\n",
            "also installing the dependency ‘TTR’\n",
            "\n",
            "\n"
          ]
        }
      ]
    },
    {
      "cell_type": "code",
      "source": [
        "install.packages(c(\"caret\"))"
      ],
      "metadata": {
        "colab": {
          "base_uri": "https://localhost:8080/"
        },
        "id": "x9sMp8V2wUwr",
        "outputId": "a1abe93c-0659-4e13-aa98-cbe9e8e08d14"
      },
      "execution_count": 3,
      "outputs": [
        {
          "output_type": "stream",
          "name": "stderr",
          "text": [
            "Installing package into ‘/usr/local/lib/R/site-library’\n",
            "(as ‘lib’ is unspecified)\n",
            "\n",
            "also installing the dependencies ‘future’, ‘future.apply’, ‘lava’, ‘prodlim’, ‘ipred’, ‘pROC’, ‘recipes’, ‘reshape2’\n",
            "\n",
            "\n"
          ]
        }
      ]
    },
    {
      "cell_type": "code",
      "source": [
        "install.packages(c(\"lubridate\"))"
      ],
      "metadata": {
        "colab": {
          "base_uri": "https://localhost:8080/"
        },
        "id": "IcZdr0Hdw0Hf",
        "outputId": "6edcee3a-c3df-4431-ed3d-61e42c987823"
      },
      "execution_count": 5,
      "outputs": [
        {
          "output_type": "stream",
          "name": "stderr",
          "text": [
            "Installing package into ‘/usr/local/lib/R/site-library’\n",
            "(as ‘lib’ is unspecified)\n",
            "\n"
          ]
        }
      ]
    },
    {
      "cell_type": "code",
      "source": [
        "install.packages(c(\"ggplot2\"))"
      ],
      "metadata": {
        "colab": {
          "base_uri": "https://localhost:8080/"
        },
        "id": "umpDoF4zyRsD",
        "outputId": "e30af393-02d4-460b-a3e5-e88e4c1f384c"
      },
      "execution_count": 6,
      "outputs": [
        {
          "output_type": "stream",
          "name": "stderr",
          "text": [
            "Installing package into ‘/usr/local/lib/R/site-library’\n",
            "(as ‘lib’ is unspecified)\n",
            "\n"
          ]
        }
      ]
    },
    {
      "cell_type": "code",
      "source": [
        "install.packages(c(\"zoo\"))"
      ],
      "metadata": {
        "colab": {
          "base_uri": "https://localhost:8080/"
        },
        "id": "3qShJdICydZb",
        "outputId": "5083d46c-f9f6-432c-a310-40d09d87665e"
      },
      "execution_count": 7,
      "outputs": [
        {
          "output_type": "stream",
          "name": "stderr",
          "text": [
            "Installing package into ‘/usr/local/lib/R/site-library’\n",
            "(as ‘lib’ is unspecified)\n",
            "\n"
          ]
        }
      ]
    },
    {
      "cell_type": "code",
      "source": [
        "install.packages(c(\"randomForest\"))"
      ],
      "metadata": {
        "colab": {
          "base_uri": "https://localhost:8080/"
        },
        "id": "Su74T9OBymeU",
        "outputId": "77c5a954-96a4-434a-ec17-fac701874607"
      },
      "execution_count": 8,
      "outputs": [
        {
          "output_type": "stream",
          "name": "stderr",
          "text": [
            "Installing package into ‘/usr/local/lib/R/site-library’\n",
            "(as ‘lib’ is unspecified)\n",
            "\n"
          ]
        }
      ]
    },
    {
      "cell_type": "code",
      "source": [
        "install.packages(\"xts\")"
      ],
      "metadata": {
        "colab": {
          "base_uri": "https://localhost:8080/"
        },
        "id": "lqd5y5SF0wv0",
        "outputId": "460ab1b3-7628-4ee1-b52b-20f8fe576184"
      },
      "execution_count": 11,
      "outputs": [
        {
          "output_type": "stream",
          "name": "stderr",
          "text": [
            "Installing package into ‘/usr/local/lib/R/site-library’\n",
            "(as ‘lib’ is unspecified)\n",
            "\n"
          ]
        }
      ]
    },
    {
      "cell_type": "code",
      "source": [
        "library(tidyverse)\n",
        "library(lubridate)\n",
        "library(quantmod)\n",
        "\n",
        "stock_data <- read_csv(\"stock-data.csv\")"
      ],
      "metadata": {
        "colab": {
          "base_uri": "https://localhost:8080/"
        },
        "id": "HhmgnRkjzanS",
        "outputId": "e9488436-0f59-4e2d-e8b1-98f746c1f0ff"
      },
      "execution_count": 29,
      "outputs": [
        {
          "output_type": "stream",
          "name": "stderr",
          "text": [
            "\u001b[1m\u001b[22mNew names:\n",
            "\u001b[36m•\u001b[39m `` -> `...1`\n",
            "\u001b[1mRows: \u001b[22m\u001b[34m11291\u001b[39m \u001b[1mColumns: \u001b[22m\u001b[34m8\u001b[39m\n",
            "\u001b[36m──\u001b[39m \u001b[1mColumn specification\u001b[22m \u001b[36m────────────────────────────────────────────────────────\u001b[39m\n",
            "\u001b[1mDelimiter:\u001b[22m \",\"\n",
            "\u001b[32mdbl\u001b[39m  (7): ...1, Adj Close, Close, High, Low, Open, Volume\n",
            "\u001b[34mdate\u001b[39m (1): Date\n",
            "\n",
            "\u001b[36mℹ\u001b[39m Use `spec()` to retrieve the full column specification for this data.\n",
            "\u001b[36mℹ\u001b[39m Specify the column types or set `show_col_types = FALSE` to quiet this message.\n"
          ]
        }
      ]
    },
    {
      "cell_type": "code",
      "source": [
        "head(stock_data)\n",
        "summary(stock_data)"
      ],
      "metadata": {
        "colab": {
          "base_uri": "https://localhost:8080/",
          "height": 564
        },
        "id": "Cemj34SX3fow",
        "outputId": "6b301769-01ad-402f-8527-a564a39ba851"
      },
      "execution_count": 30,
      "outputs": [
        {
          "output_type": "display_data",
          "data": {
            "text/html": [
              "<table class=\"dataframe\">\n",
              "<caption>A tibble: 6 × 8</caption>\n",
              "<thead>\n",
              "\t<tr><th scope=col>...1</th><th scope=col>Date</th><th scope=col>Adj Close</th><th scope=col>Close</th><th scope=col>High</th><th scope=col>Low</th><th scope=col>Open</th><th scope=col>Volume</th></tr>\n",
              "\t<tr><th scope=col>&lt;dbl&gt;</th><th scope=col>&lt;date&gt;</th><th scope=col>&lt;dbl&gt;</th><th scope=col>&lt;dbl&gt;</th><th scope=col>&lt;dbl&gt;</th><th scope=col>&lt;dbl&gt;</th><th scope=col>&lt;dbl&gt;</th><th scope=col>&lt;dbl&gt;</th></tr>\n",
              "</thead>\n",
              "<tbody>\n",
              "\t<tr><td>0</td><td>1980-03-17</td><td>2.296798</td><td>3.291227</td><td>3.344743</td><td>3.291227</td><td>0.000000</td><td>41109</td></tr>\n",
              "\t<tr><td>1</td><td>1980-03-18</td><td>2.306134</td><td>3.304606</td><td>3.358122</td><td>3.304606</td><td>0.000000</td><td> 9343</td></tr>\n",
              "\t<tr><td>2</td><td>1980-03-19</td><td>2.306134</td><td>3.304606</td><td>3.304606</td><td>3.304606</td><td>3.304606</td><td>    0</td></tr>\n",
              "\t<tr><td>3</td><td>1980-03-20</td><td>2.306134</td><td>3.304606</td><td>3.358122</td><td>3.304606</td><td>0.000000</td><td>10277</td></tr>\n",
              "\t<tr><td>4</td><td>1980-03-21</td><td>2.362154</td><td>3.384880</td><td>3.438396</td><td>3.384880</td><td>0.000000</td><td> 8409</td></tr>\n",
              "\t<tr><td>5</td><td>1980-03-24</td><td>2.371490</td><td>3.398259</td><td>3.451775</td><td>3.398259</td><td>0.000000</td><td> 2803</td></tr>\n",
              "</tbody>\n",
              "</table>\n"
            ],
            "text/markdown": "\nA tibble: 6 × 8\n\n| ...1 &lt;dbl&gt; | Date &lt;date&gt; | Adj Close &lt;dbl&gt; | Close &lt;dbl&gt; | High &lt;dbl&gt; | Low &lt;dbl&gt; | Open &lt;dbl&gt; | Volume &lt;dbl&gt; |\n|---|---|---|---|---|---|---|---|\n| 0 | 1980-03-17 | 2.296798 | 3.291227 | 3.344743 | 3.291227 | 0.000000 | 41109 |\n| 1 | 1980-03-18 | 2.306134 | 3.304606 | 3.358122 | 3.304606 | 0.000000 |  9343 |\n| 2 | 1980-03-19 | 2.306134 | 3.304606 | 3.304606 | 3.304606 | 3.304606 |     0 |\n| 3 | 1980-03-20 | 2.306134 | 3.304606 | 3.358122 | 3.304606 | 0.000000 | 10277 |\n| 4 | 1980-03-21 | 2.362154 | 3.384880 | 3.438396 | 3.384880 | 0.000000 |  8409 |\n| 5 | 1980-03-24 | 2.371490 | 3.398259 | 3.451775 | 3.398259 | 0.000000 |  2803 |\n\n",
            "text/latex": "A tibble: 6 × 8\n\\begin{tabular}{llllllll}\n ...1 & Date & Adj Close & Close & High & Low & Open & Volume\\\\\n <dbl> & <date> & <dbl> & <dbl> & <dbl> & <dbl> & <dbl> & <dbl>\\\\\n\\hline\n\t 0 & 1980-03-17 & 2.296798 & 3.291227 & 3.344743 & 3.291227 & 0.000000 & 41109\\\\\n\t 1 & 1980-03-18 & 2.306134 & 3.304606 & 3.358122 & 3.304606 & 0.000000 &  9343\\\\\n\t 2 & 1980-03-19 & 2.306134 & 3.304606 & 3.304606 & 3.304606 & 3.304606 &     0\\\\\n\t 3 & 1980-03-20 & 2.306134 & 3.304606 & 3.358122 & 3.304606 & 0.000000 & 10277\\\\\n\t 4 & 1980-03-21 & 2.362154 & 3.384880 & 3.438396 & 3.384880 & 0.000000 &  8409\\\\\n\t 5 & 1980-03-24 & 2.371490 & 3.398259 & 3.451775 & 3.398259 & 0.000000 &  2803\\\\\n\\end{tabular}\n",
            "text/plain": [
              "  ...1 Date       Adj Close Close    High     Low      Open     Volume\n",
              "1 0    1980-03-17 2.296798  3.291227 3.344743 3.291227 0.000000 41109 \n",
              "2 1    1980-03-18 2.306134  3.304606 3.358122 3.304606 0.000000  9343 \n",
              "3 2    1980-03-19 2.306134  3.304606 3.304606 3.304606 3.304606     0 \n",
              "4 3    1980-03-20 2.306134  3.304606 3.358122 3.304606 0.000000 10277 \n",
              "5 4    1980-03-21 2.362154  3.384880 3.438396 3.384880 0.000000  8409 \n",
              "6 5    1980-03-24 2.371490  3.398259 3.451775 3.398259 0.000000  2803 "
            ]
          },
          "metadata": {}
        },
        {
          "output_type": "display_data",
          "data": {
            "text/plain": [
              "      ...1            Date              Adj Close           Close        \n",
              " Min.   :    0   Min.   :1980-03-17   Min.   :  2.259   Min.   :  3.238  \n",
              " 1st Qu.: 2822   1st Qu.:1991-05-17   1st Qu.: 19.225   1st Qu.: 27.500  \n",
              " Median : 5645   Median :2002-07-26   Median : 50.609   Median : 66.035  \n",
              " Mean   : 5645   Mean   :2002-08-03   Mean   : 63.609   Mean   : 72.027  \n",
              " 3rd Qu.: 8468   3rd Qu.:2013-10-21   3rd Qu.:104.724   3rd Qu.:114.297  \n",
              " Max.   :11290   Max.   :2024-12-27   Max.   :254.770   Max.   :254.770  \n",
              "                 NA's   :110          NA's   :93        NA's   :117      \n",
              "      High              Low               Open            Volume        \n",
              " Min.   :  3.238   Min.   :  3.238   Min.   :  0.00   Min.   :       0  \n",
              " 1st Qu.: 27.789   1st Qu.: 27.536   1st Qu.:  0.00   1st Qu.:   13500  \n",
              " Median : 66.725   Median : 65.419   Median : 66.06   Median :   90324  \n",
              " Mean   : 72.503   Mean   : 71.665   Mean   : 68.00   Mean   :  214416  \n",
              " 3rd Qu.:114.892   3rd Qu.:113.640   3rd Qu.:114.27   3rd Qu.:  291575  \n",
              " Max.   :255.230   Max.   :253.590   Max.   :255.00   Max.   :18582700  \n",
              " NA's   :95        NA's   :127       NA's   :103      NA's   :145       "
            ]
          },
          "metadata": {}
        }
      ]
    },
    {
      "cell_type": "code",
      "source": [
        "stock_data <- read_csv(\"stock-data.csv\") %>%\n",
        "  drop_na()"
      ],
      "metadata": {
        "colab": {
          "base_uri": "https://localhost:8080/"
        },
        "id": "wnBzmqs932p4",
        "outputId": "21ead7c0-98de-47fb-fc40-fe09d8216861"
      },
      "execution_count": 31,
      "outputs": [
        {
          "output_type": "stream",
          "name": "stderr",
          "text": [
            "\u001b[1m\u001b[22mNew names:\n",
            "\u001b[36m•\u001b[39m `` -> `...1`\n",
            "\u001b[1mRows: \u001b[22m\u001b[34m11291\u001b[39m \u001b[1mColumns: \u001b[22m\u001b[34m8\u001b[39m\n",
            "\u001b[36m──\u001b[39m \u001b[1mColumn specification\u001b[22m \u001b[36m────────────────────────────────────────────────────────\u001b[39m\n",
            "\u001b[1mDelimiter:\u001b[22m \",\"\n",
            "\u001b[32mdbl\u001b[39m  (7): ...1, Adj Close, Close, High, Low, Open, Volume\n",
            "\u001b[34mdate\u001b[39m (1): Date\n",
            "\n",
            "\u001b[36mℹ\u001b[39m Use `spec()` to retrieve the full column specification for this data.\n",
            "\u001b[36mℹ\u001b[39m Specify the column types or set `show_col_types = FALSE` to quiet this message.\n"
          ]
        }
      ]
    },
    {
      "cell_type": "code",
      "source": [
        "ggplot(stock_data, aes(x = index(stock_data))) +\n",
        "  geom_line(aes(y = Close)) +\n",
        "  labs(title = \"Historical Closing Prices\", x = \"Date\", y = \"Price\") #price chart"
      ],
      "metadata": {
        "colab": {
          "base_uri": "https://localhost:8080/",
          "height": 437
        },
        "id": "RT2xvbrx2PA6",
        "outputId": "409c612c-a9dc-4905-fc68-9456016ad26f"
      },
      "execution_count": 32,
      "outputs": [
        {
          "output_type": "display_data",
          "data": {
            "text/plain": [
              "plot without title"
            ],
            "image/png": "[encoded data removed]"
          },
          "metadata": {
            "image/png": {
              "width": 420,
              "height": 420
            }
          }
        }
      ]
    },
    {
      "cell_type": "code",
      "source": [
        "ggplot(stock_data, aes(x = index(stock_data))) +\n",
        "  geom_bar(aes(y = Volume), stat = \"identity\") +\n",
        "  labs(title = \"Trading Volume\") #volume chart"
      ],
      "metadata": {
        "colab": {
          "base_uri": "https://localhost:8080/",
          "height": 437
        },
        "id": "D93ZpD7D2gX-",
        "outputId": "dbe207e0-3ff2-4b4e-e3f9-0b71df76c533"
      },
      "execution_count": 33,
      "outputs": [
        {
          "output_type": "display_data",
          "data": {
            "text/plain": [
              "plot without title"
            ],
            "image/png": "[encoded data removed]"
          },
          "metadata": {
            "image/png": {
              "width": 420,
              "height": 420
            }
          }
        }
      ]
    },
    {
      "cell_type": "code",
      "source": [
        "sum(is.na(stock_data))"
      ],
      "metadata": {
        "colab": {
          "base_uri": "https://localhost:8080/",
          "height": 34
        },
        "id": "g33TzcaF4jIs",
        "outputId": "c8cdae0c-3da4-42a2-f8a1-66304b41b4ab"
      },
      "execution_count": 34,
      "outputs": [
        {
          "output_type": "display_data",
          "data": {
            "text/html": [
              "0"
            ],
            "text/markdown": "0",
            "text/latex": "0",
            "text/plain": [
              "[1] 0"
            ]
          },
          "metadata": {}
        }
      ]
    },
    {
      "cell_type": "code",
      "source": [
        "stock_data <- stock_data %>%\n",
        "  mutate(Daily_Return = (Close - lag(Close)) / lag(Close))\n",
        "\n",
        "ggplot(stock_data, aes(Daily_Return)) +\n",
        "  geom_histogram(bins = 50) +\n",
        "  labs(title = \"Daily Returns Distribution\")  #daily returns analysis"
      ],
      "metadata": {
        "colab": {
          "base_uri": "https://localhost:8080/",
          "height": 472
        },
        "id": "kd-bC5e04oaW",
        "outputId": "dd260951-e017-42af-a648-2e6c981c0f2b"
      },
      "execution_count": 37,
      "outputs": [
        {
          "output_type": "stream",
          "name": "stderr",
          "text": [
            "Warning message:\n",
            "“\u001b[1m\u001b[22mRemoved 1 row containing non-finite outside the scale range (`stat_bin()`).”\n"
          ]
        },
        {
          "output_type": "display_data",
          "data": {
            "text/plain": [
              "plot without title"
            ],
            "image/png": "[encoded data removed]"
          },
          "metadata": {
            "image/png": {
              "width": 420,
              "height": 420
            }
          }
        }
      ]
    },
    {
      "cell_type": "code",
      "source": [
        "library(zoo)\n",
        "\n",
        "# Create technical features\n",
        "stock_data <- stock_data %>%\n",
        "  mutate(\n",
        "    Lag_1 = lag(Close, 1),\n",
        "    Lag_2 = lag(Close, 2),\n",
        "    Lag_3 = lag(Close, 3),\n",
        "    MA_5 = rollmean(Close, 5, fill = NA, align = \"right\"),\n",
        "    MA_20 = rollmean(Close, 20, fill = NA, align = \"right\"),\n",
        "    RSI = RSI(Close, n = 14),\n",
        "    Momentum = Close - lag(Close, 5)\n",
        "  ) %>%\n",
        "  mutate(\n",
        "    Day = day(Date),\n",
        "    Month = month(Date),\n",
        "    Weekday = wday(Date, label = TRUE)\n",
        "  ) %>%\n",
        "  mutate(Target = lead(Close, 5)) %>%  # 5-day future price\n",
        "  na.omit()"
      ],
      "metadata": {
        "id": "5DedIIKh5Hez"
      },
      "execution_count": 63,
      "outputs": []
    },
    {
      "cell_type": "code",
      "source": [
        "install.packages(\"xgboost\", repos = \"http://cran.us.r-project.org\") # Install xgboost within the R session\n",
        "library(xgboost)"
      ],
      "metadata": {
        "colab": {
          "base_uri": "https://localhost:8080/"
        },
        "id": "l8i8gotf5UnB",
        "outputId": "07cc528f-2146-480d-cb11-c1a7e4561174"
      },
      "execution_count": 56,
      "outputs": [
        {
          "output_type": "stream",
          "name": "stderr",
          "text": [
            "Installing package into ‘/usr/local/lib/R/site-library’\n",
            "(as ‘lib’ is unspecified)\n",
            "\n",
            "\n",
            "Attaching package: ‘xgboost’\n",
            "\n",
            "\n",
            "The following object is masked from ‘package:dplyr’:\n",
            "\n",
            "    slice\n",
            "\n",
            "\n"
          ]
        }
      ]
    },
    {
      "cell_type": "code",
      "source": [
        "library(caret)\n",
        "library(randomForest)\n",
        "\n",
        "# Split data\n",
        "train_idx <- createDataPartition(stock_data$Target, p = 0.8, list = FALSE)\n",
        "train <- stock_data[train_idx, ]\n",
        "test <- stock_data[-train_idx, ]\n",
        "\n",
        "# Linear Regression\n",
        "lm_model <- lm(Target ~ ., data = train)\n",
        "lm_pred <- predict(lm_model, newdata = test)\n",
        "\n",
        "# Random Forest\n",
        "rf_model <- randomForest(Target ~ . - `Adj Close`, data = train, ntree = 100)\n",
        "rf_pred <- predict(rf_model, newdata = test)\n",
        "\n",
        "# XGBoost\n",
        "train_matrix <- train %>%\n",
        "  mutate(across(where(is.character), as.factor),\n",
        "         across(where(is.factor), as.numeric),\n",
        "         Date = as.numeric(as.Date(Date))) %>%\n",
        "  select(-Target) %>% #\n",
        "  as.matrix()\n",
        "\n",
        "test_matrix <- test %>%\n",
        "  mutate(across(where(is.character), as.factor),\n",
        "         across(where(is.factor), as.numeric),\n",
        "         Date = as.numeric(as.Date(Date))) %>%\n",
        "  select(-Target) %>%\n",
        "  as.matrix()\n",
        "\n",
        "xgb_model <- xgboost(\n",
        "  data = train_matrix,\n",
        "  label = train$Target,\n",
        "  nrounds = 100,\n",
        "  objective = \"reg:squarederror\"\n",
        ")\n",
        "\n",
        "xgb_pred <- predict(xgb_model, test_matrix)"
      ],
      "metadata": {
        "colab": {
          "base_uri": "https://localhost:8080/"
        },
        "id": "7czcac4K9kk5",
        "outputId": "96212542-2f2f-441f-b25e-e807d7ba875e"
      },
      "execution_count": 66,
      "outputs": [
        {
          "output_type": "stream",
          "name": "stdout",
          "text": [
            "[1]\ttrain-rmse:61.942571 \n",
            "[2]\ttrain-rmse:43.498575 \n",
            "[3]\ttrain-rmse:30.585465 \n",
            "[4]\ttrain-rmse:21.556068 \n",
            "[5]\ttrain-rmse:15.260623 \n",
            "[6]\ttrain-rmse:10.892661 \n",
            "[7]\ttrain-rmse:7.879339 \n",
            "[8]\ttrain-rmse:5.832405 \n",
            "[9]\ttrain-rmse:4.446136 \n",
            "[10]\ttrain-rmse:3.558819 \n",
            "[11]\ttrain-rmse:2.987451 \n",
            "[12]\ttrain-rmse:2.645183 \n",
            "[13]\ttrain-rmse:2.436198 \n",
            "[14]\ttrain-rmse:2.306867 \n",
            "[15]\ttrain-rmse:2.233509 \n",
            "[16]\ttrain-rmse:2.154496 \n",
            "[17]\ttrain-rmse:2.109931 \n",
            "[18]\ttrain-rmse:2.074177 \n",
            "[19]\ttrain-rmse:2.046241 \n",
            "[20]\ttrain-rmse:2.022398 \n",
            "[21]\ttrain-rmse:1.995138 \n",
            "[22]\ttrain-rmse:1.975605 \n",
            "[23]\ttrain-rmse:1.951035 \n",
            "[24]\ttrain-rmse:1.936278 \n",
            "[25]\ttrain-rmse:1.904654 \n",
            "[26]\ttrain-rmse:1.899326 \n",
            "[27]\ttrain-rmse:1.890368 \n",
            "[28]\ttrain-rmse:1.846566 \n",
            "[29]\ttrain-rmse:1.814841 \n",
            "[30]\ttrain-rmse:1.807897 \n",
            "[31]\ttrain-rmse:1.803046 \n",
            "[32]\ttrain-rmse:1.790688 \n",
            "[33]\ttrain-rmse:1.784244 \n",
            "[34]\ttrain-rmse:1.776629 \n",
            "[35]\ttrain-rmse:1.747807 \n",
            "[36]\ttrain-rmse:1.716048 \n",
            "[37]\ttrain-rmse:1.707418 \n",
            "[38]\ttrain-rmse:1.698663 \n",
            "[39]\ttrain-rmse:1.677228 \n",
            "[40]\ttrain-rmse:1.671668 \n",
            "[41]\ttrain-rmse:1.660447 \n",
            "[42]\ttrain-rmse:1.643186 \n",
            "[43]\ttrain-rmse:1.631810 \n",
            "[44]\ttrain-rmse:1.595127 \n",
            "[45]\ttrain-rmse:1.590547 \n",
            "[46]\ttrain-rmse:1.558905 \n",
            "[47]\ttrain-rmse:1.547169 \n",
            "[48]\ttrain-rmse:1.526783 \n",
            "[49]\ttrain-rmse:1.509409 \n",
            "[50]\ttrain-rmse:1.506196 \n",
            "[51]\ttrain-rmse:1.480236 \n",
            "[52]\ttrain-rmse:1.458985 \n",
            "[53]\ttrain-rmse:1.452889 \n",
            "[54]\ttrain-rmse:1.450813 \n",
            "[55]\ttrain-rmse:1.445044 \n",
            "[56]\ttrain-rmse:1.427262 \n",
            "[57]\ttrain-rmse:1.412559 \n",
            "[58]\ttrain-rmse:1.392155 \n",
            "[59]\ttrain-rmse:1.366720 \n",
            "[60]\ttrain-rmse:1.349955 \n",
            "[61]\ttrain-rmse:1.336598 \n",
            "[62]\ttrain-rmse:1.326645 \n",
            "[63]\ttrain-rmse:1.318281 \n",
            "[64]\ttrain-rmse:1.304467 \n",
            "[65]\ttrain-rmse:1.289342 \n",
            "[66]\ttrain-rmse:1.280119 \n",
            "[67]\ttrain-rmse:1.269668 \n",
            "[68]\ttrain-rmse:1.265381 \n",
            "[69]\ttrain-rmse:1.257809 \n",
            "[70]\ttrain-rmse:1.244607 \n",
            "[71]\ttrain-rmse:1.240068 \n",
            "[72]\ttrain-rmse:1.225850 \n",
            "[73]\ttrain-rmse:1.211496 \n",
            "[74]\ttrain-rmse:1.210216 \n",
            "[75]\ttrain-rmse:1.202049 \n",
            "[76]\ttrain-rmse:1.198372 \n",
            "[77]\ttrain-rmse:1.189718 \n",
            "[78]\ttrain-rmse:1.173719 \n",
            "[79]\ttrain-rmse:1.167399 \n",
            "[80]\ttrain-rmse:1.161852 \n",
            "[81]\ttrain-rmse:1.151005 \n",
            "[82]\ttrain-rmse:1.143684 \n",
            "[83]\ttrain-rmse:1.130777 \n",
            "[84]\ttrain-rmse:1.128092 \n",
            "[85]\ttrain-rmse:1.122975 \n",
            "[86]\ttrain-rmse:1.108746 \n",
            "[87]\ttrain-rmse:1.096647 \n",
            "[88]\ttrain-rmse:1.095279 \n",
            "[89]\ttrain-rmse:1.083649 \n",
            "[90]\ttrain-rmse:1.078414 \n",
            "[91]\ttrain-rmse:1.076977 \n",
            "[92]\ttrain-rmse:1.073822 \n",
            "[93]\ttrain-rmse:1.055901 \n",
            "[94]\ttrain-rmse:1.047845 \n",
            "[95]\ttrain-rmse:1.036213 \n",
            "[96]\ttrain-rmse:1.032133 \n",
            "[97]\ttrain-rmse:1.026324 \n",
            "[98]\ttrain-rmse:1.017817 \n",
            "[99]\ttrain-rmse:1.011227 \n",
            "[100]\ttrain-rmse:0.997707 \n"
          ]
        }
      ]
    },
    {
      "cell_type": "code",
      "source": [
        "# Metrics calculation\n",
        "postResample(pred = lm_pred, obs = test$Target)\n",
        "postResample(pred = rf_pred, obs = test$Target)\n",
        "postResample(pred = xgb_pred, obs = test$Target)\n",
        "\n",
        "# Trading simulation\n",
        "test_data <- test %>%\n",
        "  mutate(\n",
        "    Prediction = xgb_pred,\n",
        "    Position = ifelse(Prediction > Close, 1, -1),\n",
        "    Returns = Position * (Close - lag(Close)) / lag(Close),\n",
        "    Cumulative = cumprod(1 + coalesce(Returns, 0))\n",
        "  )\n",
        "\n",
        "ggplot(test_data, aes(x = Date)) +\n",
        "  geom_line(aes(y = Cumulative)) +\n",
        "  labs(title = \"Strategy Performance\")"
      ],
      "metadata": {
        "colab": {
          "base_uri": "https://localhost:8080/",
          "height": 489
        },
        "id": "GQs67PjhFbVK",
        "outputId": "7f67f75d-f285-4cc6-f2fd-5102226c5885"
      },
      "execution_count": 70,
      "outputs": [
        {
          "output_type": "display_data",
          "data": {
            "text/html": [
              "<style>\n",
              ".dl-inline {width: auto; margin:0; padding: 0}\n",
              ".dl-inline>dt, .dl-inline>dd {float: none; width: auto; display: inline-block}\n",
              ".dl-inline>dt::after {content: \":\\0020\"; padding-right: .5ex}\n",
              ".dl-inline>dt:not(:first-of-type) {padding-left: .5ex}\n",
              "</style><dl class=dl-inline><dt>RMSE</dt><dd>3.02066178416956</dd><dt>Rsquared</dt><dd>0.996497268269996</dd><dt>MAE</dt><dd>1.91145195520294</dd></dl>\n"
            ],
            "text/markdown": "RMSE\n:   3.02066178416956Rsquared\n:   0.996497268269996MAE\n:   1.91145195520294\n\n",
            "text/latex": "\\begin{description*}\n\\item[RMSE] 3.02066178416956\n\\item[Rsquared] 0.996497268269996\n\\item[MAE] 1.91145195520294\n\\end{description*}\n",
            "text/plain": [
              "     RMSE  Rsquared       MAE \n",
              "3.0206618 0.9964973 1.9114520 "
            ]
          },
          "metadata": {}
        },
        {
          "output_type": "display_data",
          "data": {
            "text/html": [
              "<style>\n",
              ".dl-inline {width: auto; margin:0; padding: 0}\n",
              ".dl-inline>dt, .dl-inline>dd {float: none; width: auto; display: inline-block}\n",
              ".dl-inline>dt::after {content: \":\\0020\"; padding-right: .5ex}\n",
              ".dl-inline>dt:not(:first-of-type) {padding-left: .5ex}\n",
              "</style><dl class=dl-inline><dt>RMSE</dt><dd>2.31130826889855</dd><dt>Rsquared</dt><dd>0.997948376421919</dd><dt>MAE</dt><dd>1.43477556065583</dd></dl>\n"
            ],
            "text/markdown": "RMSE\n:   2.31130826889855Rsquared\n:   0.997948376421919MAE\n:   1.43477556065583\n\n",
            "text/latex": "\\begin{description*}\n\\item[RMSE] 2.31130826889855\n\\item[Rsquared] 0.997948376421919\n\\item[MAE] 1.43477556065583\n\\end{description*}\n",
            "text/plain": [
              "     RMSE  Rsquared       MAE \n",
              "2.3113083 0.9979484 1.4347756 "
            ]
          },
          "metadata": {}
        },
        {
          "output_type": "display_data",
          "data": {
            "text/html": [
              "<style>\n",
              ".dl-inline {width: auto; margin:0; padding: 0}\n",
              ".dl-inline>dt, .dl-inline>dd {float: none; width: auto; display: inline-block}\n",
              ".dl-inline>dt::after {content: \":\\0020\"; padding-right: .5ex}\n",
              ".dl-inline>dt:not(:first-of-type) {padding-left: .5ex}\n",
              "</style><dl class=dl-inline><dt>RMSE</dt><dd>2.35650029217547</dd><dt>Rsquared</dt><dd>0.99786776634634</dd><dt>MAE</dt><dd>1.53686198724402</dd></dl>\n"
            ],
            "text/markdown": "RMSE\n:   2.35650029217547Rsquared\n:   0.99786776634634MAE\n:   1.53686198724402\n\n",
            "text/latex": "\\begin{description*}\n\\item[RMSE] 2.35650029217547\n\\item[Rsquared] 0.99786776634634\n\\item[MAE] 1.53686198724402\n\\end{description*}\n",
            "text/plain": [
              "     RMSE  Rsquared       MAE \n",
              "2.3565003 0.9978678 1.5368620 "
            ]
          },
          "metadata": {}
        },
        {
          "output_type": "display_data",
          "data": {
            "text/plain": [
              "plot without title"
            ],
            "image/png": "[encoded data removed]"
          },
          "metadata": {
            "image/png": {
              "width": 420,
              "height": 420
            }
          }
        }
      ]
    },
    {
      "cell_type": "code",
      "source": [
        "# Train final model\n",
        "final_model <- xgboost(\n",
        "  data = as.matrix(stock_data[, -which(names(stock_data) %in% c(\"Target\", \"Date\", \"Weekday\"))] %>%\n",
        "    mutate(across(where(is.character), as.factor),\n",
        "           across(where(is.factor), as.numeric))),\n",
        "  label = stock_data$Target,\n",
        "  nrounds = 100\n",
        ")\n",
        "\n",
        "# Create future dataset (example structure)\n",
        "future_dates <- seq(max(stock_data$Date), by = \"1 day\", length.out = 10) %>%\n",
        "  as_tibble() %>%\n",
        "  rename(Date = value) %>%\n",
        "  filter(!weekdays(Date) %in% c(\"Saturday\", \"Sunday\")) %>%\n",
        "  head(5)\n",
        "\n",
        "# Assuming 'future_features_matrix' will be created with the same structure as the training data\n",
        "# but with future dates\n",
        "future_features_matrix <- stock_data[1:5, -which(names(stock_data) %in% c(\"Target\", \"Date\", \"Weekday\"))] %>%\n",
        "  mutate(across(where(is.character), as.factor),\n",
        "           across(where(is.factor), as.numeric)) %>%\n",
        "  as.matrix()\n",
        "\n",
        "predictions <- predict(final_model, newdata = future_features_matrix)\n",
        "write_csv(data.frame(Date = future_dates, Predicted_Close = predictions), \"predictions.csv\")"
      ],
      "metadata": {
        "colab": {
          "base_uri": "https://localhost:8080/"
        },
        "id": "IgF_LWWPGykc",
        "outputId": "02fb4e0a-d1c1-4738-cd4c-1f8cd6b9150c"
      },
      "execution_count": 73,
      "outputs": [
        {
          "output_type": "stream",
          "name": "stdout",
          "text": [
            "[1]\ttrain-rmse:61.904491 \n",
            "[2]\ttrain-rmse:43.459061 \n",
            "[3]\ttrain-rmse:30.545959 \n",
            "[4]\ttrain-rmse:21.521750 \n",
            "[5]\ttrain-rmse:15.229760 \n",
            "[6]\ttrain-rmse:10.867136 \n",
            "[7]\ttrain-rmse:7.859246 \n",
            "[8]\ttrain-rmse:5.814681 \n",
            "[9]\ttrain-rmse:4.448320 \n",
            "[10]\ttrain-rmse:3.568960 \n",
            "[11]\ttrain-rmse:3.012960 \n",
            "[12]\ttrain-rmse:2.659266 \n",
            "[13]\ttrain-rmse:2.470631 \n",
            "[14]\ttrain-rmse:2.341928 \n",
            "[15]\ttrain-rmse:2.275193 \n",
            "[16]\ttrain-rmse:2.219126 \n",
            "[17]\ttrain-rmse:2.176200 \n",
            "[18]\ttrain-rmse:2.143471 \n",
            "[19]\ttrain-rmse:2.109572 \n",
            "[20]\ttrain-rmse:2.058587 \n",
            "[21]\ttrain-rmse:2.034445 \n",
            "[22]\ttrain-rmse:2.022186 \n",
            "[23]\ttrain-rmse:2.001664 \n",
            "[24]\ttrain-rmse:1.992780 \n",
            "[25]\ttrain-rmse:1.984458 \n",
            "[26]\ttrain-rmse:1.965731 \n",
            "[27]\ttrain-rmse:1.958903 \n",
            "[28]\ttrain-rmse:1.921950 \n",
            "[29]\ttrain-rmse:1.903128 \n",
            "[30]\ttrain-rmse:1.872326 \n",
            "[31]\ttrain-rmse:1.867601 \n",
            "[32]\ttrain-rmse:1.864590 \n",
            "[33]\ttrain-rmse:1.852987 \n",
            "[34]\ttrain-rmse:1.843054 \n",
            "[35]\ttrain-rmse:1.839901 \n",
            "[36]\ttrain-rmse:1.822987 \n",
            "[37]\ttrain-rmse:1.802077 \n",
            "[38]\ttrain-rmse:1.786688 \n",
            "[39]\ttrain-rmse:1.776903 \n",
            "[40]\ttrain-rmse:1.740494 \n",
            "[41]\ttrain-rmse:1.724110 \n",
            "[42]\ttrain-rmse:1.716876 \n",
            "[43]\ttrain-rmse:1.708533 \n",
            "[44]\ttrain-rmse:1.705776 \n",
            "[45]\ttrain-rmse:1.685916 \n",
            "[46]\ttrain-rmse:1.653415 \n",
            "[47]\ttrain-rmse:1.638467 \n",
            "[48]\ttrain-rmse:1.629769 \n",
            "[49]\ttrain-rmse:1.618584 \n",
            "[50]\ttrain-rmse:1.615486 \n",
            "[51]\ttrain-rmse:1.597263 \n",
            "[52]\ttrain-rmse:1.588907 \n",
            "[53]\ttrain-rmse:1.579611 \n",
            "[54]\ttrain-rmse:1.569235 \n",
            "[55]\ttrain-rmse:1.562646 \n",
            "[56]\ttrain-rmse:1.556856 \n",
            "[57]\ttrain-rmse:1.549312 \n",
            "[58]\ttrain-rmse:1.534846 \n",
            "[59]\ttrain-rmse:1.522098 \n",
            "[60]\ttrain-rmse:1.518584 \n",
            "[61]\ttrain-rmse:1.515727 \n",
            "[62]\ttrain-rmse:1.501331 \n",
            "[63]\ttrain-rmse:1.488067 \n",
            "[64]\ttrain-rmse:1.472805 \n",
            "[65]\ttrain-rmse:1.465292 \n",
            "[66]\ttrain-rmse:1.450598 \n",
            "[67]\ttrain-rmse:1.445815 \n",
            "[68]\ttrain-rmse:1.435236 \n",
            "[69]\ttrain-rmse:1.431419 \n",
            "[70]\ttrain-rmse:1.423724 \n",
            "[71]\ttrain-rmse:1.419125 \n",
            "[72]\ttrain-rmse:1.402686 \n",
            "[73]\ttrain-rmse:1.389839 \n",
            "[74]\ttrain-rmse:1.378374 \n",
            "[75]\ttrain-rmse:1.368234 \n",
            "[76]\ttrain-rmse:1.355657 \n",
            "[77]\ttrain-rmse:1.347652 \n",
            "[78]\ttrain-rmse:1.340820 \n",
            "[79]\ttrain-rmse:1.332313 \n",
            "[80]\ttrain-rmse:1.322043 \n",
            "[81]\ttrain-rmse:1.313350 \n",
            "[82]\ttrain-rmse:1.303737 \n",
            "[83]\ttrain-rmse:1.293118 \n",
            "[84]\ttrain-rmse:1.291178 \n",
            "[85]\ttrain-rmse:1.269581 \n",
            "[86]\ttrain-rmse:1.266575 \n",
            "[87]\ttrain-rmse:1.262137 \n",
            "[88]\ttrain-rmse:1.257615 \n",
            "[89]\ttrain-rmse:1.235375 \n",
            "[90]\ttrain-rmse:1.224679 \n",
            "[91]\ttrain-rmse:1.214156 \n",
            "[92]\ttrain-rmse:1.207754 \n",
            "[93]\ttrain-rmse:1.193232 \n",
            "[94]\ttrain-rmse:1.189418 \n",
            "[95]\ttrain-rmse:1.186948 \n",
            "[96]\ttrain-rmse:1.182864 \n",
            "[97]\ttrain-rmse:1.175889 \n",
            "[98]\ttrain-rmse:1.172304 \n",
            "[99]\ttrain-rmse:1.171286 \n",
            "[100]\ttrain-rmse:1.168901 \n"
          ]
        }
      ]
    }
  ]
}